{
 "cells": [
  {
   "cell_type": "code",
   "execution_count": 1,
   "id": "1c7e93d6",
   "metadata": {},
   "outputs": [],
   "source": [
    "#Exploratory Data Analysis\n",
    "\n",
    "import pandas as pd\n",
    "import numpy as np\n",
    "import matplotlib.pyplot as plt\n",
    "import seaborn as sns\n",
    "import warnings\n",
    "warnings.filterwarnings('ignore')\n",
    "\n",
    "data = pd.read_csv(r'C:\\Users\\hp\\OneDrive\\Desktop\\AI\\BAI-3A\\PAI\\Project\\Breast Cancer Prediction\\data.csv')"
   ]
  },
  {
   "cell_type": "code",
   "execution_count": 2,
   "id": "433d2f8d",
   "metadata": {},
   "outputs": [
    {
     "data": {
      "text/html": [
       "<div>\n",
       "<style scoped>\n",
       "    .dataframe tbody tr th:only-of-type {\n",
       "        vertical-align: middle;\n",
       "    }\n",
       "\n",
       "    .dataframe tbody tr th {\n",
       "        vertical-align: top;\n",
       "    }\n",
       "\n",
       "    .dataframe thead th {\n",
       "        text-align: right;\n",
       "    }\n",
       "</style>\n",
       "<table border=\"1\" class=\"dataframe\">\n",
       "  <thead>\n",
       "    <tr style=\"text-align: right;\">\n",
       "      <th></th>\n",
       "      <th>id</th>\n",
       "      <th>diagnosis</th>\n",
       "      <th>radius_mean</th>\n",
       "      <th>texture_mean</th>\n",
       "      <th>perimeter_mean</th>\n",
       "      <th>area_mean</th>\n",
       "      <th>smoothness_mean</th>\n",
       "      <th>compactness_mean</th>\n",
       "      <th>concavity_mean</th>\n",
       "      <th>concave points_mean</th>\n",
       "      <th>...</th>\n",
       "      <th>radius_worst</th>\n",
       "      <th>texture_worst</th>\n",
       "      <th>perimeter_worst</th>\n",
       "      <th>area_worst</th>\n",
       "      <th>smoothness_worst</th>\n",
       "      <th>compactness_worst</th>\n",
       "      <th>concavity_worst</th>\n",
       "      <th>concave points_worst</th>\n",
       "      <th>symmetry_worst</th>\n",
       "      <th>fractal_dimension_worst</th>\n",
       "    </tr>\n",
       "  </thead>\n",
       "  <tbody>\n",
       "    <tr>\n",
       "      <th>0</th>\n",
       "      <td>842302</td>\n",
       "      <td>M</td>\n",
       "      <td>17.99</td>\n",
       "      <td>10.38</td>\n",
       "      <td>122.80</td>\n",
       "      <td>1001.0</td>\n",
       "      <td>0.11840</td>\n",
       "      <td>0.27760</td>\n",
       "      <td>0.30010</td>\n",
       "      <td>0.14710</td>\n",
       "      <td>...</td>\n",
       "      <td>25.380</td>\n",
       "      <td>17.33</td>\n",
       "      <td>184.60</td>\n",
       "      <td>2019.0</td>\n",
       "      <td>0.16220</td>\n",
       "      <td>0.66560</td>\n",
       "      <td>0.7119</td>\n",
       "      <td>0.2654</td>\n",
       "      <td>0.4601</td>\n",
       "      <td>0.11890</td>\n",
       "    </tr>\n",
       "    <tr>\n",
       "      <th>1</th>\n",
       "      <td>842517</td>\n",
       "      <td>M</td>\n",
       "      <td>20.57</td>\n",
       "      <td>17.77</td>\n",
       "      <td>132.90</td>\n",
       "      <td>1326.0</td>\n",
       "      <td>0.08474</td>\n",
       "      <td>0.07864</td>\n",
       "      <td>0.08690</td>\n",
       "      <td>0.07017</td>\n",
       "      <td>...</td>\n",
       "      <td>24.990</td>\n",
       "      <td>23.41</td>\n",
       "      <td>158.80</td>\n",
       "      <td>1956.0</td>\n",
       "      <td>0.12380</td>\n",
       "      <td>0.18660</td>\n",
       "      <td>0.2416</td>\n",
       "      <td>0.1860</td>\n",
       "      <td>0.2750</td>\n",
       "      <td>0.08902</td>\n",
       "    </tr>\n",
       "    <tr>\n",
       "      <th>2</th>\n",
       "      <td>84300903</td>\n",
       "      <td>M</td>\n",
       "      <td>19.69</td>\n",
       "      <td>21.25</td>\n",
       "      <td>130.00</td>\n",
       "      <td>1203.0</td>\n",
       "      <td>0.10960</td>\n",
       "      <td>0.15990</td>\n",
       "      <td>0.19740</td>\n",
       "      <td>0.12790</td>\n",
       "      <td>...</td>\n",
       "      <td>23.570</td>\n",
       "      <td>25.53</td>\n",
       "      <td>152.50</td>\n",
       "      <td>1709.0</td>\n",
       "      <td>0.14440</td>\n",
       "      <td>0.42450</td>\n",
       "      <td>0.4504</td>\n",
       "      <td>0.2430</td>\n",
       "      <td>0.3613</td>\n",
       "      <td>0.08758</td>\n",
       "    </tr>\n",
       "    <tr>\n",
       "      <th>3</th>\n",
       "      <td>84348301</td>\n",
       "      <td>M</td>\n",
       "      <td>11.42</td>\n",
       "      <td>20.38</td>\n",
       "      <td>77.58</td>\n",
       "      <td>386.1</td>\n",
       "      <td>0.14250</td>\n",
       "      <td>0.28390</td>\n",
       "      <td>0.24140</td>\n",
       "      <td>0.10520</td>\n",
       "      <td>...</td>\n",
       "      <td>14.910</td>\n",
       "      <td>26.50</td>\n",
       "      <td>98.87</td>\n",
       "      <td>567.7</td>\n",
       "      <td>0.20980</td>\n",
       "      <td>0.86630</td>\n",
       "      <td>0.6869</td>\n",
       "      <td>0.2575</td>\n",
       "      <td>0.6638</td>\n",
       "      <td>0.17300</td>\n",
       "    </tr>\n",
       "    <tr>\n",
       "      <th>4</th>\n",
       "      <td>84358402</td>\n",
       "      <td>M</td>\n",
       "      <td>20.29</td>\n",
       "      <td>14.34</td>\n",
       "      <td>135.10</td>\n",
       "      <td>1297.0</td>\n",
       "      <td>0.10030</td>\n",
       "      <td>0.13280</td>\n",
       "      <td>0.19800</td>\n",
       "      <td>0.10430</td>\n",
       "      <td>...</td>\n",
       "      <td>22.540</td>\n",
       "      <td>16.67</td>\n",
       "      <td>152.20</td>\n",
       "      <td>1575.0</td>\n",
       "      <td>0.13740</td>\n",
       "      <td>0.20500</td>\n",
       "      <td>0.4000</td>\n",
       "      <td>0.1625</td>\n",
       "      <td>0.2364</td>\n",
       "      <td>0.07678</td>\n",
       "    </tr>\n",
       "    <tr>\n",
       "      <th>...</th>\n",
       "      <td>...</td>\n",
       "      <td>...</td>\n",
       "      <td>...</td>\n",
       "      <td>...</td>\n",
       "      <td>...</td>\n",
       "      <td>...</td>\n",
       "      <td>...</td>\n",
       "      <td>...</td>\n",
       "      <td>...</td>\n",
       "      <td>...</td>\n",
       "      <td>...</td>\n",
       "      <td>...</td>\n",
       "      <td>...</td>\n",
       "      <td>...</td>\n",
       "      <td>...</td>\n",
       "      <td>...</td>\n",
       "      <td>...</td>\n",
       "      <td>...</td>\n",
       "      <td>...</td>\n",
       "      <td>...</td>\n",
       "      <td>...</td>\n",
       "    </tr>\n",
       "    <tr>\n",
       "      <th>564</th>\n",
       "      <td>926424</td>\n",
       "      <td>M</td>\n",
       "      <td>21.56</td>\n",
       "      <td>22.39</td>\n",
       "      <td>142.00</td>\n",
       "      <td>1479.0</td>\n",
       "      <td>0.11100</td>\n",
       "      <td>0.11590</td>\n",
       "      <td>0.24390</td>\n",
       "      <td>0.13890</td>\n",
       "      <td>...</td>\n",
       "      <td>25.450</td>\n",
       "      <td>26.40</td>\n",
       "      <td>166.10</td>\n",
       "      <td>2027.0</td>\n",
       "      <td>0.14100</td>\n",
       "      <td>0.21130</td>\n",
       "      <td>0.4107</td>\n",
       "      <td>0.2216</td>\n",
       "      <td>0.2060</td>\n",
       "      <td>0.07115</td>\n",
       "    </tr>\n",
       "    <tr>\n",
       "      <th>565</th>\n",
       "      <td>926682</td>\n",
       "      <td>M</td>\n",
       "      <td>20.13</td>\n",
       "      <td>28.25</td>\n",
       "      <td>131.20</td>\n",
       "      <td>1261.0</td>\n",
       "      <td>0.09780</td>\n",
       "      <td>0.10340</td>\n",
       "      <td>0.14400</td>\n",
       "      <td>0.09791</td>\n",
       "      <td>...</td>\n",
       "      <td>23.690</td>\n",
       "      <td>38.25</td>\n",
       "      <td>155.00</td>\n",
       "      <td>1731.0</td>\n",
       "      <td>0.11660</td>\n",
       "      <td>0.19220</td>\n",
       "      <td>0.3215</td>\n",
       "      <td>0.1628</td>\n",
       "      <td>0.2572</td>\n",
       "      <td>0.06637</td>\n",
       "    </tr>\n",
       "    <tr>\n",
       "      <th>566</th>\n",
       "      <td>926954</td>\n",
       "      <td>M</td>\n",
       "      <td>16.60</td>\n",
       "      <td>28.08</td>\n",
       "      <td>108.30</td>\n",
       "      <td>858.1</td>\n",
       "      <td>0.08455</td>\n",
       "      <td>0.10230</td>\n",
       "      <td>0.09251</td>\n",
       "      <td>0.05302</td>\n",
       "      <td>...</td>\n",
       "      <td>18.980</td>\n",
       "      <td>34.12</td>\n",
       "      <td>126.70</td>\n",
       "      <td>1124.0</td>\n",
       "      <td>0.11390</td>\n",
       "      <td>0.30940</td>\n",
       "      <td>0.3403</td>\n",
       "      <td>0.1418</td>\n",
       "      <td>0.2218</td>\n",
       "      <td>0.07820</td>\n",
       "    </tr>\n",
       "    <tr>\n",
       "      <th>567</th>\n",
       "      <td>927241</td>\n",
       "      <td>M</td>\n",
       "      <td>20.60</td>\n",
       "      <td>29.33</td>\n",
       "      <td>140.10</td>\n",
       "      <td>1265.0</td>\n",
       "      <td>0.11780</td>\n",
       "      <td>0.27700</td>\n",
       "      <td>0.35140</td>\n",
       "      <td>0.15200</td>\n",
       "      <td>...</td>\n",
       "      <td>25.740</td>\n",
       "      <td>39.42</td>\n",
       "      <td>184.60</td>\n",
       "      <td>1821.0</td>\n",
       "      <td>0.16500</td>\n",
       "      <td>0.86810</td>\n",
       "      <td>0.9387</td>\n",
       "      <td>0.2650</td>\n",
       "      <td>0.4087</td>\n",
       "      <td>0.12400</td>\n",
       "    </tr>\n",
       "    <tr>\n",
       "      <th>568</th>\n",
       "      <td>92751</td>\n",
       "      <td>B</td>\n",
       "      <td>7.76</td>\n",
       "      <td>24.54</td>\n",
       "      <td>47.92</td>\n",
       "      <td>181.0</td>\n",
       "      <td>0.05263</td>\n",
       "      <td>0.04362</td>\n",
       "      <td>0.00000</td>\n",
       "      <td>0.00000</td>\n",
       "      <td>...</td>\n",
       "      <td>9.456</td>\n",
       "      <td>30.37</td>\n",
       "      <td>59.16</td>\n",
       "      <td>268.6</td>\n",
       "      <td>0.08996</td>\n",
       "      <td>0.06444</td>\n",
       "      <td>0.0000</td>\n",
       "      <td>0.0000</td>\n",
       "      <td>0.2871</td>\n",
       "      <td>0.07039</td>\n",
       "    </tr>\n",
       "  </tbody>\n",
       "</table>\n",
       "<p>569 rows × 32 columns</p>\n",
       "</div>"
      ],
      "text/plain": [
       "           id diagnosis  radius_mean  texture_mean  perimeter_mean  area_mean  \\\n",
       "0      842302         M        17.99         10.38          122.80     1001.0   \n",
       "1      842517         M        20.57         17.77          132.90     1326.0   \n",
       "2    84300903         M        19.69         21.25          130.00     1203.0   \n",
       "3    84348301         M        11.42         20.38           77.58      386.1   \n",
       "4    84358402         M        20.29         14.34          135.10     1297.0   \n",
       "..        ...       ...          ...           ...             ...        ...   \n",
       "564    926424         M        21.56         22.39          142.00     1479.0   \n",
       "565    926682         M        20.13         28.25          131.20     1261.0   \n",
       "566    926954         M        16.60         28.08          108.30      858.1   \n",
       "567    927241         M        20.60         29.33          140.10     1265.0   \n",
       "568     92751         B         7.76         24.54           47.92      181.0   \n",
       "\n",
       "     smoothness_mean  compactness_mean  concavity_mean  concave points_mean  \\\n",
       "0            0.11840           0.27760         0.30010              0.14710   \n",
       "1            0.08474           0.07864         0.08690              0.07017   \n",
       "2            0.10960           0.15990         0.19740              0.12790   \n",
       "3            0.14250           0.28390         0.24140              0.10520   \n",
       "4            0.10030           0.13280         0.19800              0.10430   \n",
       "..               ...               ...             ...                  ...   \n",
       "564          0.11100           0.11590         0.24390              0.13890   \n",
       "565          0.09780           0.10340         0.14400              0.09791   \n",
       "566          0.08455           0.10230         0.09251              0.05302   \n",
       "567          0.11780           0.27700         0.35140              0.15200   \n",
       "568          0.05263           0.04362         0.00000              0.00000   \n",
       "\n",
       "     ...  radius_worst  texture_worst  perimeter_worst  area_worst  \\\n",
       "0    ...        25.380          17.33           184.60      2019.0   \n",
       "1    ...        24.990          23.41           158.80      1956.0   \n",
       "2    ...        23.570          25.53           152.50      1709.0   \n",
       "3    ...        14.910          26.50            98.87       567.7   \n",
       "4    ...        22.540          16.67           152.20      1575.0   \n",
       "..   ...           ...            ...              ...         ...   \n",
       "564  ...        25.450          26.40           166.10      2027.0   \n",
       "565  ...        23.690          38.25           155.00      1731.0   \n",
       "566  ...        18.980          34.12           126.70      1124.0   \n",
       "567  ...        25.740          39.42           184.60      1821.0   \n",
       "568  ...         9.456          30.37            59.16       268.6   \n",
       "\n",
       "     smoothness_worst  compactness_worst  concavity_worst  \\\n",
       "0             0.16220            0.66560           0.7119   \n",
       "1             0.12380            0.18660           0.2416   \n",
       "2             0.14440            0.42450           0.4504   \n",
       "3             0.20980            0.86630           0.6869   \n",
       "4             0.13740            0.20500           0.4000   \n",
       "..                ...                ...              ...   \n",
       "564           0.14100            0.21130           0.4107   \n",
       "565           0.11660            0.19220           0.3215   \n",
       "566           0.11390            0.30940           0.3403   \n",
       "567           0.16500            0.86810           0.9387   \n",
       "568           0.08996            0.06444           0.0000   \n",
       "\n",
       "     concave points_worst  symmetry_worst  fractal_dimension_worst  \n",
       "0                  0.2654          0.4601                  0.11890  \n",
       "1                  0.1860          0.2750                  0.08902  \n",
       "2                  0.2430          0.3613                  0.08758  \n",
       "3                  0.2575          0.6638                  0.17300  \n",
       "4                  0.1625          0.2364                  0.07678  \n",
       "..                    ...             ...                      ...  \n",
       "564                0.2216          0.2060                  0.07115  \n",
       "565                0.1628          0.2572                  0.06637  \n",
       "566                0.1418          0.2218                  0.07820  \n",
       "567                0.2650          0.4087                  0.12400  \n",
       "568                0.0000          0.2871                  0.07039  \n",
       "\n",
       "[569 rows x 32 columns]"
      ]
     },
     "execution_count": 2,
     "metadata": {},
     "output_type": "execute_result"
    }
   ],
   "source": [
    "data"
   ]
  },
  {
   "cell_type": "code",
   "execution_count": 3,
   "id": "b2824cd4",
   "metadata": {},
   "outputs": [
    {
     "data": {
      "text/plain": [
       "(569, 32)"
      ]
     },
     "execution_count": 3,
     "metadata": {},
     "output_type": "execute_result"
    }
   ],
   "source": [
    "data.shape"
   ]
  },
  {
   "cell_type": "code",
   "execution_count": 4,
   "id": "20e0abf6",
   "metadata": {},
   "outputs": [
    {
     "name": "stdout",
     "output_type": "stream",
     "text": [
      "Description:\n",
      "There are 569 cases in this dataset\n",
      "There are 31 features in this dataset\n",
      "There are 212 cases diagnosed as malignant tumor\n",
      "There are 357 cases diagnosed as benign tumor\n",
      "The percentage of malignant cases is: 37.2583 %\n",
      "The percentage of benign cases is: 62.7417 %\n"
     ]
    }
   ],
   "source": [
    "print('Description:')\n",
    "cases = len(data)\n",
    "print('There are {} cases in this dataset'.format(cases))\n",
    "features = data.shape[1]-1\n",
    "print('There are {} features in this dataset'.format(features))\n",
    "malignant = len(data[data['diagnosis']=='M'])\n",
    "print('There are {} cases diagnosed as malignant tumor'.format(malignant))\n",
    "benign = len(data[data['diagnosis']=='B'])\n",
    "print('There are {} cases diagnosed as benign tumor'.format(benign))\n",
    "mrate = round(malignant / cases * 100, 4)\n",
    "print('The percentage of malignant cases is: {} %'.format(mrate))\n",
    "brate = round(benign / cases * 100, 4)\n",
    "print('The percentage of benign cases is: {} %'.format(brate))"
   ]
  },
  {
   "cell_type": "code",
   "execution_count": 5,
   "id": "83e10ff6",
   "metadata": {},
   "outputs": [
    {
     "data": {
      "text/plain": [
       "array(['M', 'B'], dtype=object)"
      ]
     },
     "execution_count": 5,
     "metadata": {},
     "output_type": "execute_result"
    }
   ],
   "source": [
    "data.diagnosis.unique()"
   ]
  },
  {
   "cell_type": "code",
   "execution_count": 6,
   "id": "b92d9414",
   "metadata": {},
   "outputs": [],
   "source": [
    "data = data.drop(columns=['id'])"
   ]
  },
  {
   "cell_type": "code",
   "execution_count": 7,
   "id": "4a182529",
   "metadata": {},
   "outputs": [
    {
     "data": {
      "text/plain": [
       "False"
      ]
     },
     "execution_count": 7,
     "metadata": {},
     "output_type": "execute_result"
    }
   ],
   "source": [
    "data.isnull().values.any()"
   ]
  },
  {
   "cell_type": "code",
   "execution_count": 8,
   "id": "d6b3a58e",
   "metadata": {},
   "outputs": [
    {
     "name": "stdout",
     "output_type": "stream",
     "text": [
      "Independent variable:       radius_mean  texture_mean  perimeter_mean  area_mean  smoothness_mean  \\\n",
      "0          17.99         10.38          122.80     1001.0          0.11840   \n",
      "1          20.57         17.77          132.90     1326.0          0.08474   \n",
      "2          19.69         21.25          130.00     1203.0          0.10960   \n",
      "3          11.42         20.38           77.58      386.1          0.14250   \n",
      "4          20.29         14.34          135.10     1297.0          0.10030   \n",
      "..           ...           ...             ...        ...              ...   \n",
      "564        21.56         22.39          142.00     1479.0          0.11100   \n",
      "565        20.13         28.25          131.20     1261.0          0.09780   \n",
      "566        16.60         28.08          108.30      858.1          0.08455   \n",
      "567        20.60         29.33          140.10     1265.0          0.11780   \n",
      "568         7.76         24.54           47.92      181.0          0.05263   \n",
      "\n",
      "     compactness_mean  concavity_mean  concave points_mean  symmetry_mean  \\\n",
      "0             0.27760         0.30010              0.14710         0.2419   \n",
      "1             0.07864         0.08690              0.07017         0.1812   \n",
      "2             0.15990         0.19740              0.12790         0.2069   \n",
      "3             0.28390         0.24140              0.10520         0.2597   \n",
      "4             0.13280         0.19800              0.10430         0.1809   \n",
      "..                ...             ...                  ...            ...   \n",
      "564           0.11590         0.24390              0.13890         0.1726   \n",
      "565           0.10340         0.14400              0.09791         0.1752   \n",
      "566           0.10230         0.09251              0.05302         0.1590   \n",
      "567           0.27700         0.35140              0.15200         0.2397   \n",
      "568           0.04362         0.00000              0.00000         0.1587   \n",
      "\n",
      "     fractal_dimension_mean  ...  fractal_dimension_se  radius_worst  \\\n",
      "0                   0.07871  ...              0.006193        25.380   \n",
      "1                   0.05667  ...              0.003532        24.990   \n",
      "2                   0.05999  ...              0.004571        23.570   \n",
      "3                   0.09744  ...              0.009208        14.910   \n",
      "4                   0.05883  ...              0.005115        22.540   \n",
      "..                      ...  ...                   ...           ...   \n",
      "564                 0.05623  ...              0.004239        25.450   \n",
      "565                 0.05533  ...              0.002498        23.690   \n",
      "566                 0.05648  ...              0.003892        18.980   \n",
      "567                 0.07016  ...              0.006185        25.740   \n",
      "568                 0.05884  ...              0.002783         9.456   \n",
      "\n",
      "     texture_worst  perimeter_worst  area_worst  smoothness_worst  \\\n",
      "0            17.33           184.60      2019.0           0.16220   \n",
      "1            23.41           158.80      1956.0           0.12380   \n",
      "2            25.53           152.50      1709.0           0.14440   \n",
      "3            26.50            98.87       567.7           0.20980   \n",
      "4            16.67           152.20      1575.0           0.13740   \n",
      "..             ...              ...         ...               ...   \n",
      "564          26.40           166.10      2027.0           0.14100   \n",
      "565          38.25           155.00      1731.0           0.11660   \n",
      "566          34.12           126.70      1124.0           0.11390   \n",
      "567          39.42           184.60      1821.0           0.16500   \n",
      "568          30.37            59.16       268.6           0.08996   \n",
      "\n",
      "     compactness_worst  concavity_worst  concave points_worst  symmetry_worst  \n",
      "0              0.66560           0.7119                0.2654          0.4601  \n",
      "1              0.18660           0.2416                0.1860          0.2750  \n",
      "2              0.42450           0.4504                0.2430          0.3613  \n",
      "3              0.86630           0.6869                0.2575          0.6638  \n",
      "4              0.20500           0.4000                0.1625          0.2364  \n",
      "..                 ...              ...                   ...             ...  \n",
      "564            0.21130           0.4107                0.2216          0.2060  \n",
      "565            0.19220           0.3215                0.1628          0.2572  \n",
      "566            0.30940           0.3403                0.1418          0.2218  \n",
      "567            0.86810           0.9387                0.2650          0.4087  \n",
      "568            0.06444           0.0000                0.0000          0.2871  \n",
      "\n",
      "[569 rows x 29 columns]\n",
      "Dependent variable:      diagnosis\n",
      "0           M\n",
      "1           M\n",
      "2           M\n",
      "3           M\n",
      "4           M\n",
      "..        ...\n",
      "564         M\n",
      "565         M\n",
      "566         M\n",
      "567         M\n",
      "568         B\n",
      "\n",
      "[569 rows x 1 columns]\n"
     ]
    }
   ],
   "source": [
    "x = data[data.columns[1:30]]\n",
    "y = data[data.columns[0:1]]\n",
    "print('Independent variable: ', x)\n",
    "print('Dependent variable: ', y)"
   ]
  },
  {
   "cell_type": "code",
   "execution_count": 9,
   "id": "84469da2",
   "metadata": {
    "scrolled": false
   },
   "outputs": [
    {
     "name": "stdout",
     "output_type": "stream",
     "text": [
      "x train data:      radius_mean  texture_mean  perimeter_mean  area_mean  smoothness_mean  \\\n",
      "40        13.440         21.58           86.18      563.0          0.08162   \n",
      "375       16.170         16.07          106.30      788.5          0.09880   \n",
      "159       10.900         12.96           68.69      366.8          0.07515   \n",
      "278       13.590         17.84           86.24      572.3          0.07948   \n",
      "303       10.490         18.61           66.86      334.3          0.10680   \n",
      "..           ...           ...             ...        ...              ...   \n",
      "211       11.840         18.94           75.51      428.0          0.08871   \n",
      "502       12.540         16.32           81.25      476.3          0.11580   \n",
      "537       11.690         24.44           76.37      406.4          0.12360   \n",
      "196       13.770         22.29           90.63      588.9          0.12000   \n",
      "175        8.671         14.45           54.42      227.2          0.09138   \n",
      "\n",
      "     compactness_mean  concavity_mean  concave points_mean  symmetry_mean  \\\n",
      "40            0.06031         0.03110             0.020310         0.1784   \n",
      "375           0.14380         0.06651             0.053970         0.1990   \n",
      "159           0.03718         0.00309             0.006588         0.1442   \n",
      "278           0.04052         0.01997             0.012380         0.1573   \n",
      "303           0.06678         0.02297             0.017800         0.1482   \n",
      "..                ...             ...                  ...            ...   \n",
      "211           0.06900         0.02669             0.013930         0.1533   \n",
      "502           0.10850         0.05928             0.032790         0.1943   \n",
      "537           0.15520         0.04515             0.045310         0.2131   \n",
      "196           0.12670         0.13850             0.065260         0.1834   \n",
      "175           0.04276         0.00000             0.000000         0.1722   \n",
      "\n",
      "     fractal_dimension_mean  ...  fractal_dimension_se  radius_worst  \\\n",
      "40                  0.05587  ...              0.001286        15.930   \n",
      "375                 0.06572  ...              0.003696        16.970   \n",
      "159                 0.05743  ...              0.002665        12.360   \n",
      "278                 0.05520  ...              0.001126        15.500   \n",
      "303                 0.06600  ...              0.003317        11.060   \n",
      "..                      ...  ...                   ...           ...   \n",
      "211                 0.06057  ...              0.002922        13.300   \n",
      "502                 0.06612  ...              0.002480        13.570   \n",
      "537                 0.07405  ...              0.005824        12.980   \n",
      "196                 0.06877  ...              0.004306        16.390   \n",
      "175                 0.06724  ...              0.003399         9.262   \n",
      "\n",
      "     texture_worst  perimeter_worst  area_worst  smoothness_worst  \\\n",
      "40           30.25           102.50       787.9            0.1094   \n",
      "375          19.14           113.10       861.5            0.1235   \n",
      "159          18.20            78.07       470.0            0.1171   \n",
      "278          26.10            98.91       739.1            0.1050   \n",
      "303          24.54            70.76       375.4            0.1413   \n",
      "..             ...              ...         ...               ...   \n",
      "211          24.99            85.22       546.3            0.1280   \n",
      "502          21.40            86.67       552.0            0.1580   \n",
      "537          32.19            86.12       487.7            0.1768   \n",
      "196          34.01           111.60       806.9            0.1737   \n",
      "175          17.04            58.36       259.2            0.1162   \n",
      "\n",
      "     compactness_worst  concavity_worst  concave points_worst  symmetry_worst  \n",
      "40             0.20430          0.20850               0.11120          0.2994  \n",
      "375            0.25500          0.21140               0.12510          0.3153  \n",
      "159            0.08294          0.01854               0.03953          0.2738  \n",
      "278            0.07622          0.10600               0.05185          0.2335  \n",
      "303            0.10440          0.08423               0.06528          0.2213  \n",
      "..                 ...              ...                   ...             ...  \n",
      "211            0.18800          0.14710               0.06913          0.2535  \n",
      "502            0.17510          0.18890               0.08411          0.3155  \n",
      "537            0.32510          0.13950               0.13080          0.2803  \n",
      "196            0.31220          0.38090               0.16730          0.3080  \n",
      "175            0.07057          0.00000               0.00000          0.2592  \n",
      "\n",
      "[455 rows x 29 columns]\n",
      "y train data:     diagnosis\n",
      "40          M\n",
      "375         B\n",
      "159         B\n",
      "278         B\n",
      "303         B\n",
      "..        ...\n",
      "211         B\n",
      "502         B\n",
      "537         B\n",
      "196         M\n",
      "175         B\n",
      "\n",
      "[455 rows x 1 columns]\n",
      "x test data:      radius_mean  texture_mean  perimeter_mean  area_mean  smoothness_mean  \\\n",
      "350       11.660         17.07           73.70      421.0          0.07561   \n",
      "259       15.530         33.56          103.70      744.9          0.10630   \n",
      "115       11.930         21.53           76.53      438.6          0.09768   \n",
      "60        10.170         14.88           64.55      311.9          0.11340   \n",
      "275       11.890         17.36           76.20      435.6          0.12250   \n",
      "..           ...           ...             ...        ...              ...   \n",
      "358        8.878         15.49           56.74      241.0          0.08293   \n",
      "360       12.540         18.07           79.42      491.9          0.07436   \n",
      "530       11.750         17.56           75.89      422.9          0.10730   \n",
      "261       17.350         23.06          111.00      933.1          0.08662   \n",
      "267       13.590         21.84           87.16      561.0          0.07956   \n",
      "\n",
      "     compactness_mean  concavity_mean  concave points_mean  symmetry_mean  \\\n",
      "350           0.03630        0.008306             0.011620         0.1671   \n",
      "259           0.16390        0.175100             0.083990         0.2091   \n",
      "115           0.07849        0.033280             0.020080         0.1688   \n",
      "60            0.08061        0.010840             0.012900         0.2743   \n",
      "275           0.07210        0.059290             0.074040         0.2015   \n",
      "..                ...             ...                  ...            ...   \n",
      "358           0.07698        0.047210             0.023810         0.1930   \n",
      "360           0.02650        0.001194             0.005449         0.1528   \n",
      "530           0.09713        0.052820             0.044400         0.1598   \n",
      "261           0.06290        0.028910             0.028370         0.1564   \n",
      "267           0.08259        0.040720             0.021420         0.1635   \n",
      "\n",
      "     fractal_dimension_mean  ...  fractal_dimension_se  radius_worst  \\\n",
      "350                 0.05731  ...              0.002668        13.280   \n",
      "259                 0.06650  ...              0.003359        18.490   \n",
      "115                 0.06194  ...              0.003856        13.670   \n",
      "60                  0.06960  ...              0.005953        11.020   \n",
      "275                 0.05875  ...              0.003002        12.400   \n",
      "..                      ...  ...                   ...           ...   \n",
      "358                 0.06621  ...              0.004174         9.981   \n",
      "360                 0.05185  ...              0.001058        13.720   \n",
      "530                 0.06677  ...              0.002318        13.500   \n",
      "261                 0.05307  ...              0.001578        19.850   \n",
      "267                 0.05859  ...              0.003009        14.800   \n",
      "\n",
      "     texture_worst  perimeter_worst  area_worst  smoothness_worst  \\\n",
      "350          19.74            83.61       542.5           0.09958   \n",
      "259          49.54           126.30      1035.0           0.18830   \n",
      "115          26.15            87.54       583.0           0.15000   \n",
      "60           17.45            69.86       368.6           0.12750   \n",
      "275          18.99            79.46       472.4           0.13590   \n",
      "..             ...              ...         ...               ...   \n",
      "358          17.70            65.27       302.0           0.10150   \n",
      "360          20.98            86.82       585.7           0.09293   \n",
      "530          27.98            88.52       552.3           0.13490   \n",
      "261          31.47           128.20      1218.0           0.12400   \n",
      "267          30.04            97.66       661.5           0.10050   \n",
      "\n",
      "     compactness_worst  concavity_worst  concave points_worst  symmetry_worst  \n",
      "350            0.06476         0.030460               0.04262          0.2731  \n",
      "259            0.55640         0.570300               0.20140          0.3512  \n",
      "115            0.23990         0.150300               0.07247          0.2438  \n",
      "60             0.09866         0.021680               0.02579          0.3557  \n",
      "275            0.08368         0.071530               0.08946          0.2220  \n",
      "..                 ...              ...                   ...             ...  \n",
      "358            0.12480         0.094410               0.04762          0.2434  \n",
      "360            0.04327         0.003581               0.01635          0.2233  \n",
      "530            0.18540         0.136600               0.10100          0.2478  \n",
      "261            0.14860         0.121100               0.08235          0.2452  \n",
      "267            0.17300         0.145300               0.06189          0.2446  \n",
      "\n",
      "[114 rows x 29 columns]\n",
      "y test data:     diagnosis\n",
      "350         B\n",
      "259         M\n",
      "115         B\n",
      "60          B\n",
      "275         B\n",
      "..        ...\n",
      "358         B\n",
      "360         B\n",
      "530         B\n",
      "261         M\n",
      "267         B\n",
      "\n",
      "[114 rows x 1 columns]\n"
     ]
    }
   ],
   "source": [
    "from sklearn.model_selection import train_test_split\n",
    "from sklearn.metrics import classification_report\n",
    "from sklearn.metrics import confusion_matrix\n",
    "from sklearn.metrics import accuracy_score\n",
    "\n",
    "t_size = 0.20\n",
    "seed = 7\n",
    "x_train, x_test, y_train, y_test = train_test_split(x, y, test_size=t_size,random_state=seed)\n",
    "print('x train data:', x_train)\n",
    "print('y train data:', y_train)\n",
    "print('x test data:', x_test)\n",
    "print('y test data:', y_test)"
   ]
  },
  {
   "cell_type": "code",
   "execution_count": 10,
   "id": "8a521927",
   "metadata": {},
   "outputs": [
    {
     "name": "stdout",
     "output_type": "stream",
     "text": [
      "Accuracy of K-Nearest Neighbor:  0.9122807017543859\n"
     ]
    }
   ],
   "source": [
    "#K-Nearest Neighbor\n",
    "from sklearn.neighbors import KNeighborsClassifier\n",
    "\n",
    "knn = KNeighborsClassifier(n_neighbors=2)\n",
    "knn.fit(x_train, y_train)\n",
    "knnpredictions = knn.predict(x_test)\n",
    "knnScore = accuracy_score(y_test, knnpredictions)\n",
    "print('Accuracy of K-Nearest Neighbor: ',knnScore)"
   ]
  },
  {
   "cell_type": "code",
   "execution_count": 11,
   "id": "de9852be",
   "metadata": {},
   "outputs": [
    {
     "name": "stdout",
     "output_type": "stream",
     "text": [
      "K-nearest neighbors:\n",
      "               precision    recall  f1-score   support\n",
      "\n",
      "           B       0.88      1.00      0.94        74\n",
      "           M       1.00      0.75      0.86        40\n",
      "\n",
      "    accuracy                           0.91       114\n",
      "   macro avg       0.94      0.88      0.90       114\n",
      "weighted avg       0.92      0.91      0.91       114\n",
      "\n"
     ]
    }
   ],
   "source": [
    "print('K-nearest neighbors:\\n',(classification_report(y_test, knnpredictions)))\n",
    "knnCM = confusion_matrix(y_test, knnpredictions)"
   ]
  },
  {
   "cell_type": "code",
   "execution_count": 12,
   "id": "17d1a190",
   "metadata": {},
   "outputs": [
    {
     "name": "stdout",
     "output_type": "stream",
     "text": [
      "Accuracy of Decision Tree using Entropy:  0.9385964912280702\n"
     ]
    }
   ],
   "source": [
    "# Decision Tree using Entropy\n",
    "from sklearn.tree import DecisionTreeClassifier\n",
    "\n",
    "dt = DecisionTreeClassifier( criterion='entropy', ccp_alpha = 0.015)\n",
    "dt.fit(x_train, y_train)\n",
    "dtepredictions = dt.predict(x_test)\n",
    "DTEntropyScore = accuracy_score(y_test, dtepredictions)\n",
    "print('Accuracy of Decision Tree using Entropy: ',DTEntropyScore)"
   ]
  },
  {
   "cell_type": "code",
   "execution_count": 13,
   "id": "e1250c64",
   "metadata": {},
   "outputs": [
    {
     "name": "stdout",
     "output_type": "stream",
     "text": [
      "Decision Tree using Entropy:\n",
      "               precision    recall  f1-score   support\n",
      "\n",
      "           B       0.91      1.00      0.95        74\n",
      "           M       1.00      0.82      0.90        40\n",
      "\n",
      "    accuracy                           0.94       114\n",
      "   macro avg       0.96      0.91      0.93       114\n",
      "weighted avg       0.94      0.94      0.94       114\n",
      "\n"
     ]
    }
   ],
   "source": [
    "print('Decision Tree using Entropy:\\n',(classification_report(y_test, dtepredictions)))\n",
    "DTEntropyCM = confusion_matrix(y_test, dtepredictions)"
   ]
  },
  {
   "cell_type": "code",
   "execution_count": 14,
   "id": "0aa761d5",
   "metadata": {},
   "outputs": [
    {
     "name": "stdout",
     "output_type": "stream",
     "text": [
      "Accuracy of Decision Tree using Gini Index:  0.9385964912280702\n"
     ]
    }
   ],
   "source": [
    "# Decision Tree using Gini Index\n",
    "dt = DecisionTreeClassifier( criterion='gini', ccp_alpha = 0.015)\n",
    "dt.fit(x_train, y_train)\n",
    "dtgpredictions = dt.predict(x_test)\n",
    "DTGiniScore = accuracy_score(y_test, dtgpredictions)\n",
    "print('Accuracy of Decision Tree using Gini Index: ',DTGiniScore)"
   ]
  },
  {
   "cell_type": "code",
   "execution_count": 15,
   "id": "1230eca5",
   "metadata": {},
   "outputs": [
    {
     "name": "stdout",
     "output_type": "stream",
     "text": [
      "Decision Tree using Gini Index:\n",
      "               precision    recall  f1-score   support\n",
      "\n",
      "           B       0.92      0.99      0.95        74\n",
      "           M       0.97      0.85      0.91        40\n",
      "\n",
      "    accuracy                           0.94       114\n",
      "   macro avg       0.95      0.92      0.93       114\n",
      "weighted avg       0.94      0.94      0.94       114\n",
      "\n"
     ]
    }
   ],
   "source": [
    "print('Decision Tree using Gini Index:\\n',(classification_report(y_test, dtgpredictions)))\n",
    "DTGiniCM = confusion_matrix(y_test, dtgpredictions)"
   ]
  },
  {
   "cell_type": "code",
   "execution_count": 16,
   "id": "d1674343",
   "metadata": {},
   "outputs": [
    {
     "name": "stdout",
     "output_type": "stream",
     "text": [
      "Accuracy of Naive Bayes Algorithm:  0.9473684210526315\n"
     ]
    }
   ],
   "source": [
    "# Naive Bayes Algorithm\n",
    "from sklearn.naive_bayes import GaussianNB\n",
    "\n",
    "nb = GaussianNB()\n",
    "nb.fit(x_train, y_train)\n",
    "nbpredictions = nb.predict(x_test)\n",
    "BayeScore = accuracy_score(y_test, nbpredictions)\n",
    "print('Accuracy of Naive Bayes Algorithm: ',BayeScore)"
   ]
  },
  {
   "cell_type": "code",
   "execution_count": 17,
   "id": "8deae2b2",
   "metadata": {
    "scrolled": false
   },
   "outputs": [
    {
     "name": "stdout",
     "output_type": "stream",
     "text": [
      "Naive Bayes:\n",
      "               precision    recall  f1-score   support\n",
      "\n",
      "           B       0.94      0.99      0.96        74\n",
      "           M       0.97      0.88      0.92        40\n",
      "\n",
      "    accuracy                           0.95       114\n",
      "   macro avg       0.95      0.93      0.94       114\n",
      "weighted avg       0.95      0.95      0.95       114\n",
      "\n"
     ]
    }
   ],
   "source": [
    "print('Naive Bayes:\\n',(classification_report(y_test, nbpredictions)))\n",
    "BayeCM = confusion_matrix(y_test, nbpredictions)"
   ]
  },
  {
   "cell_type": "code",
   "execution_count": 18,
   "id": "31b2d85d",
   "metadata": {},
   "outputs": [
    {
     "data": {
      "image/png": "[encoded data removed]",
      "text/plain": [
       "<Figure size 640x480 with 1 Axes>"
      ]
     },
     "metadata": {},
     "output_type": "display_data"
    }
   ],
   "source": [
    "#Graphs Comparing the Algorithms\n",
    "algo = ['K-nearest neighbors', 'Decision Tree using Entropy', 'Decision Tree using Gini Index', 'Naive Bayes']\n",
    "score = [knnScore, DTEntropyScore, DTGiniScore, BayeScore]\n",
    "\n",
    "plt.title('Model Used VS Accuracy')\n",
    "plt.bar(range(len(algo)), score)\n",
    "\n",
    "ax = plt.subplot()\n",
    "ax.set_xticks(range(4))\n",
    "plt.xticks(rotation=90)\n",
    "ax.set_xticklabels(algo)\n",
    "plt.ylabel('Accuracy')\n",
    "plt.xlabel('Model Used')\n",
    "plt.show()"
   ]
  },
  {
   "cell_type": "code",
   "execution_count": 19,
   "id": "1d32f858",
   "metadata": {},
   "outputs": [
    {
     "data": {
      "text/plain": [
       "Text(50.722222222222214, 0.5, 'Actual')"
      ]
     },
     "execution_count": 19,
     "metadata": {},
     "output_type": "execute_result"
    },
    {
     "data": {
      "image/png": "[encoded data removed]",
      "text/plain": [
       "<Figure size 640x480 with 2 Axes>"
      ]
     },
     "metadata": {},
     "output_type": "display_data"
    }
   ],
   "source": [
    "sns.heatmap(knnCM, annot=True)\n",
    "plt.title(\"K-nearest neighbors\")\n",
    "plt.xlabel(\"Predicted\")\n",
    "plt.ylabel(\"Actual\")"
   ]
  },
  {
   "cell_type": "code",
   "execution_count": 20,
   "id": "eb9e119c",
   "metadata": {},
   "outputs": [
    {
     "data": {
      "text/plain": [
       "Text(50.722222222222214, 0.5, 'Actual')"
      ]
     },
     "execution_count": 20,
     "metadata": {},
     "output_type": "execute_result"
    },
    {
     "data": {
      "image/png": "[encoded data removed]",
      "text/plain": [
       "<Figure size 640x480 with 2 Axes>"
      ]
     },
     "metadata": {},
     "output_type": "display_data"
    }
   ],
   "source": [
    "sns.heatmap(DTEntropyCM, annot=True)\n",
    "plt.title(\"Decision Tree using Entropy\")\n",
    "plt.xlabel(\"Predicted\")\n",
    "plt.ylabel(\"Actual\")"
   ]
  },
  {
   "cell_type": "code",
   "execution_count": 21,
   "id": "baa1cab7",
   "metadata": {
    "scrolled": false
   },
   "outputs": [
    {
     "data": {
      "text/plain": [
       "Text(50.722222222222214, 0.5, 'Actual')"
      ]
     },
     "execution_count": 21,
     "metadata": {},
     "output_type": "execute_result"
    },
    {
     "data": {
      "image/png": "[encoded data removed]",
      "text/plain": [
       "<Figure size 640x480 with 2 Axes>"
      ]
     },
     "metadata": {},
     "output_type": "display_data"
    }
   ],
   "source": [
    "sns.heatmap(DTGiniCM, annot=True)\n",
    "plt.title(\"Decision Tree using Gini Index\")\n",
    "plt.xlabel(\"Predicted\")\n",
    "plt.ylabel(\"Actual\")"
   ]
  },
  {
   "cell_type": "code",
   "execution_count": 22,
   "id": "f4a53160",
   "metadata": {},
   "outputs": [
    {
     "data": {
      "text/plain": [
       "Text(50.722222222222214, 0.5, 'Actual')"
      ]
     },
     "execution_count": 22,
     "metadata": {},
     "output_type": "execute_result"
    },
    {
     "data": {
      "image/png": "[encoded data removed]",
      "text/plain": [
       "<Figure size 640x480 with 2 Axes>"
      ]
     },
     "metadata": {},
     "output_type": "display_data"
    }
   ],
   "source": [
    "sns.heatmap(BayeCM, annot=True)\n",
    "plt.title(\"Naive Bayes\")\n",
    "plt.xlabel(\"Predicted\")\n",
    "plt.ylabel(\"Actual\")"
   ]
  },
  {
   "cell_type": "code",
   "execution_count": 23,
   "id": "13c82559",
   "metadata": {
    "scrolled": false
   },
   "outputs": [
    {
     "name": "stdout",
     "output_type": "stream",
     "text": [
      "Enter radius mean: 13.49\n",
      "Enter texture mean: 22.3\n",
      "Enter perimeter mean: 86.91\n",
      "Enter area mean: 561\n",
      "Enter smoothness mean: 0.08752\n",
      "Enter compactness mean: 0.07698\n",
      "Enter concavity mean: 0.04751\n",
      "Enter concave points mean: 0.03384\n",
      "Enter symmetry mean: 0.1809\n",
      "Enter fractal dimension mean: 0.05718\n",
      "Enter radius standard error: 0.2338\n",
      "Enter texture standard error: 1.353\n",
      "Enter perimeter standard error: 1.735\n",
      "Enter area standard error: 20.2\n",
      "Enter smoothness standard error: 0.00446\n",
      "Enter concavity standard error: 0.01382\n",
      "Enter concave points standard error: 0.02095\n",
      "Enter symmetry standard error: 0.01184\n",
      "Enter fractal dimension standard error: 0.01641\n",
      "Enter radius worst: 0.00194\n",
      "Enter texture worst: 15.15\n",
      "Enter perimeter worst: 31.82\n",
      "Enter area worst: 99\n",
      "Enter smoothness worst: 698.8\n",
      "Enter compactness worst: 0.1162\n",
      "Enter concavity worst: 0.1711\n",
      "Enter concave points worst: 0.2282\n",
      "Enter symmetry worst: 0.1282\n",
      "Enter fractal dimension worst: 0.2871\n",
      "\n",
      "Result: Benign Breast Cancer Found\n"
     ]
    }
   ],
   "source": [
    "#Using Naive Bayes to predict Breast Cancer \n",
    "\n",
    "a = float(input('Enter radius mean: '))\n",
    "b = float(input('Enter texture mean: '))\n",
    "c = float(input('Enter perimeter mean: '))\n",
    "d = float(input('Enter area mean: '))\n",
    "e = float(input('Enter smoothness mean: '))\n",
    "f = float(input('Enter compactness mean: '))\n",
    "g = float(input('Enter concavity mean: '))\n",
    "h = float(input('Enter concave points mean: '))\n",
    "i = float(input('Enter symmetry mean: '))\n",
    "j = float(input('Enter fractal dimension mean: '))\n",
    "k = float(input('Enter radius standard error: '))\n",
    "l = float(input('Enter texture standard error: '))\n",
    "m = float(input('Enter perimeter standard error: '))\n",
    "n = float(input('Enter area standard error: '))\n",
    "o = float(input('Enter smoothness standard error: '))\n",
    "p = float(input('Enter concavity standard error: '))\n",
    "q = float(input('Enter concave points standard error: '))\n",
    "r = float(input('Enter symmetry standard error: '))\n",
    "s = float(input('Enter fractal dimension standard error: '))\n",
    "t = float(input('Enter radius worst: '))\n",
    "u = float(input('Enter texture worst: '))\n",
    "v = float(input('Enter perimeter worst: '))\n",
    "w = float(input('Enter area worst: '))\n",
    "x = float(input('Enter smoothness worst: '))\n",
    "y = float(input('Enter compactness worst: '))\n",
    "z = float(input('Enter concavity worst: '))\n",
    "aa = float(input('Enter concave points worst: '))\n",
    "bb = float(input('Enter symmetry worst: '))\n",
    "cc = float(input('Enter fractal dimension worst: '))\n",
    "\n",
    "\n",
    "\n",
    "predicted = nb.predict([[a,b,c,d,e,f,g,h,i,j,k,l,m,n,o,p,q,r,s,t,u,v,w,x,y,z,aa,bb,cc]])\n",
    "\n",
    "if predicted[0] == 'M':\n",
    "    print('\\nResult: Malignant Breast Cancer Found')\n",
    "else:\n",
    "    print('\\nResult: Benign Breast Cancer Found')"
   ]
  }
 ],
 "metadata": {
  "kernelspec": {
   "display_name": "Python 3 (ipykernel)",
   "language": "python",
   "name": "python3"
  },
  "language_info": {
   "codemirror_mode": {
    "name": "ipython",
    "version": 3
   },
   "file_extension": ".py",
   "mimetype": "text/x-python",
   "name": "python",
   "nbconvert_exporter": "python",
   "pygments_lexer": "ipython3",
   "version": "3.9.13"
  }
 },
 "nbformat": 4,
 "nbformat_minor": 5
}
